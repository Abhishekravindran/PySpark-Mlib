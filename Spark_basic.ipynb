{
  "nbformat": 4,
  "nbformat_minor": 0,
  "metadata": {
    "colab": {
      "name": "Spark_basic.ipynb",
      "provenance": [],
      "collapsed_sections": [],
      "authorship_tag": "ABX9TyPv33sj2KVEvN/iXhuAl+ce",
      "include_colab_link": true
    },
    "kernelspec": {
      "name": "python3",
      "display_name": "Python 3"
    },
    "language_info": {
      "name": "python"
    }
  },
  "cells": [
    {
      "cell_type": "markdown",
      "metadata": {
        "id": "view-in-github",
        "colab_type": "text"
      },
      "source": [
        "<a href=\"https://colab.research.google.com/github/Abhishekravindran/PySpark-Mlib/blob/main/Spark_basic.ipynb\" target=\"_parent\"><img src=\"https://colab.research.google.com/assets/colab-badge.svg\" alt=\"Open In Colab\"/></a>"
      ]
    },
    {
      "cell_type": "code",
      "metadata": {
        "colab": {
          "base_uri": "https://localhost:8080/"
        },
        "id": "ZTkub-APXl6D",
        "outputId": "6cd34452-2c54-49d1-8add-8c77c8e111e2"
      },
      "source": [
        "!pip install pyspark"
      ],
      "execution_count": 1,
      "outputs": [
        {
          "output_type": "stream",
          "text": [
            "Collecting pyspark\n",
            "\u001b[?25l  Downloading https://files.pythonhosted.org/packages/89/db/e18cfd78e408de957821ec5ca56de1250645b05f8523d169803d8df35a64/pyspark-3.1.2.tar.gz (212.4MB)\n",
            "\u001b[K     |████████████████████████████████| 212.4MB 59kB/s \n",
            "\u001b[?25hCollecting py4j==0.10.9\n",
            "\u001b[?25l  Downloading https://files.pythonhosted.org/packages/9e/b6/6a4fb90cd235dc8e265a6a2067f2a2c99f0d91787f06aca4bcf7c23f3f80/py4j-0.10.9-py2.py3-none-any.whl (198kB)\n",
            "\u001b[K     |████████████████████████████████| 204kB 20.1MB/s \n",
            "\u001b[?25hBuilding wheels for collected packages: pyspark\n",
            "  Building wheel for pyspark (setup.py) ... \u001b[?25l\u001b[?25hdone\n",
            "  Created wheel for pyspark: filename=pyspark-3.1.2-py2.py3-none-any.whl size=212880768 sha256=00d4ca79a6ff317f93fa76f84a606c13c2391e09d1b0494da36e7d5c6cb54d99\n",
            "  Stored in directory: /root/.cache/pip/wheels/40/1b/2c/30f43be2627857ab80062bef1527c0128f7b4070b6b2d02139\n",
            "Successfully built pyspark\n",
            "Installing collected packages: py4j, pyspark\n",
            "Successfully installed py4j-0.10.9 pyspark-3.1.2\n"
          ],
          "name": "stdout"
        }
      ]
    },
    {
      "cell_type": "code",
      "metadata": {
        "colab": {
          "base_uri": "https://localhost:8080/",
          "height": 612
        },
        "id": "mT8E1qXoYDcS",
        "outputId": "5e11f87f-dabe-474a-f3c2-93efa3a28e1d"
      },
      "source": [
        "import pandas as pd\n",
        "pd.read_csv('/content/Customer.csv')"
      ],
      "execution_count": 2,
      "outputs": [
        {
          "output_type": "execute_result",
          "data": {
            "text/html": [
              "<div>\n",
              "<style scoped>\n",
              "    .dataframe tbody tr th:only-of-type {\n",
              "        vertical-align: middle;\n",
              "    }\n",
              "\n",
              "    .dataframe tbody tr th {\n",
              "        vertical-align: top;\n",
              "    }\n",
              "\n",
              "    .dataframe thead th {\n",
              "        text-align: right;\n",
              "    }\n",
              "</style>\n",
              "<table border=\"1\" class=\"dataframe\">\n",
              "  <thead>\n",
              "    <tr style=\"text-align: right;\">\n",
              "      <th></th>\n",
              "      <th>Customer ID</th>\n",
              "      <th>Customer Name</th>\n",
              "      <th>Segment</th>\n",
              "      <th>Age</th>\n",
              "      <th>Country</th>\n",
              "      <th>City</th>\n",
              "      <th>State</th>\n",
              "      <th>Postal Code</th>\n",
              "      <th>Region</th>\n",
              "    </tr>\n",
              "  </thead>\n",
              "  <tbody>\n",
              "    <tr>\n",
              "      <th>0</th>\n",
              "      <td>CG-12520</td>\n",
              "      <td>Claire Gute</td>\n",
              "      <td>Consumer</td>\n",
              "      <td>67</td>\n",
              "      <td>United States</td>\n",
              "      <td>Henderson</td>\n",
              "      <td>Kentucky</td>\n",
              "      <td>42420</td>\n",
              "      <td>South</td>\n",
              "    </tr>\n",
              "    <tr>\n",
              "      <th>1</th>\n",
              "      <td>DV-13045</td>\n",
              "      <td>Darrin Van Huff</td>\n",
              "      <td>Corporate</td>\n",
              "      <td>31</td>\n",
              "      <td>United States</td>\n",
              "      <td>Los Angeles</td>\n",
              "      <td>California</td>\n",
              "      <td>90036</td>\n",
              "      <td>West</td>\n",
              "    </tr>\n",
              "    <tr>\n",
              "      <th>2</th>\n",
              "      <td>SO-20335</td>\n",
              "      <td>Sean O'Donnell</td>\n",
              "      <td>Consumer</td>\n",
              "      <td>65</td>\n",
              "      <td>United States</td>\n",
              "      <td>Fort Lauderdale</td>\n",
              "      <td>Florida</td>\n",
              "      <td>33311</td>\n",
              "      <td>South</td>\n",
              "    </tr>\n",
              "    <tr>\n",
              "      <th>3</th>\n",
              "      <td>BH-11710</td>\n",
              "      <td>Brosina Hoffman</td>\n",
              "      <td>Consumer</td>\n",
              "      <td>20</td>\n",
              "      <td>United States</td>\n",
              "      <td>Los Angeles</td>\n",
              "      <td>California</td>\n",
              "      <td>90032</td>\n",
              "      <td>West</td>\n",
              "    </tr>\n",
              "    <tr>\n",
              "      <th>4</th>\n",
              "      <td>AA-10480</td>\n",
              "      <td>Andrew Allen</td>\n",
              "      <td>Consumer</td>\n",
              "      <td>50</td>\n",
              "      <td>United States</td>\n",
              "      <td>Concord</td>\n",
              "      <td>North Carolina</td>\n",
              "      <td>28027</td>\n",
              "      <td>South</td>\n",
              "    </tr>\n",
              "    <tr>\n",
              "      <th>...</th>\n",
              "      <td>...</td>\n",
              "      <td>...</td>\n",
              "      <td>...</td>\n",
              "      <td>...</td>\n",
              "      <td>...</td>\n",
              "      <td>...</td>\n",
              "      <td>...</td>\n",
              "      <td>...</td>\n",
              "      <td>...</td>\n",
              "    </tr>\n",
              "    <tr>\n",
              "      <th>788</th>\n",
              "      <td>CJ-11875</td>\n",
              "      <td>Carl Jackson</td>\n",
              "      <td>Corporate</td>\n",
              "      <td>64</td>\n",
              "      <td>United States</td>\n",
              "      <td>Philadelphia</td>\n",
              "      <td>Pennsylvania</td>\n",
              "      <td>19140</td>\n",
              "      <td>East</td>\n",
              "    </tr>\n",
              "    <tr>\n",
              "      <th>789</th>\n",
              "      <td>RS-19870</td>\n",
              "      <td>Roy Skaria</td>\n",
              "      <td>Home Office</td>\n",
              "      <td>39</td>\n",
              "      <td>United States</td>\n",
              "      <td>Burlington</td>\n",
              "      <td>Iowa</td>\n",
              "      <td>52601</td>\n",
              "      <td>Central</td>\n",
              "    </tr>\n",
              "    <tr>\n",
              "      <th>790</th>\n",
              "      <td>SC-20845</td>\n",
              "      <td>Sung Chung</td>\n",
              "      <td>Consumer</td>\n",
              "      <td>69</td>\n",
              "      <td>United States</td>\n",
              "      <td>Arlington Heights</td>\n",
              "      <td>Illinois</td>\n",
              "      <td>60004</td>\n",
              "      <td>Central</td>\n",
              "    </tr>\n",
              "    <tr>\n",
              "      <th>791</th>\n",
              "      <td>RE-19405</td>\n",
              "      <td>Ricardo Emerson</td>\n",
              "      <td>Consumer</td>\n",
              "      <td>35</td>\n",
              "      <td>United States</td>\n",
              "      <td>Kent</td>\n",
              "      <td>Ohio</td>\n",
              "      <td>44240</td>\n",
              "      <td>East</td>\n",
              "    </tr>\n",
              "    <tr>\n",
              "      <th>792</th>\n",
              "      <td>SM-20905</td>\n",
              "      <td>Susan MacKendrick</td>\n",
              "      <td>Consumer</td>\n",
              "      <td>46</td>\n",
              "      <td>United States</td>\n",
              "      <td>Newark</td>\n",
              "      <td>Ohio</td>\n",
              "      <td>43055</td>\n",
              "      <td>East</td>\n",
              "    </tr>\n",
              "  </tbody>\n",
              "</table>\n",
              "<p>793 rows × 9 columns</p>\n",
              "</div>"
            ],
            "text/plain": [
              "    Customer ID      Customer Name  ... Postal Code   Region\n",
              "0      CG-12520        Claire Gute  ...       42420    South\n",
              "1      DV-13045    Darrin Van Huff  ...       90036     West\n",
              "2      SO-20335     Sean O'Donnell  ...       33311    South\n",
              "3      BH-11710    Brosina Hoffman  ...       90032     West\n",
              "4      AA-10480       Andrew Allen  ...       28027    South\n",
              "..          ...                ...  ...         ...      ...\n",
              "788    CJ-11875       Carl Jackson  ...       19140     East\n",
              "789    RS-19870         Roy Skaria  ...       52601  Central\n",
              "790    SC-20845         Sung Chung  ...       60004  Central\n",
              "791    RE-19405    Ricardo Emerson  ...       44240     East\n",
              "792    SM-20905  Susan MacKendrick  ...       43055     East\n",
              "\n",
              "[793 rows x 9 columns]"
            ]
          },
          "metadata": {
            "tags": []
          },
          "execution_count": 2
        }
      ]
    },
    {
      "cell_type": "code",
      "metadata": {
        "id": "A7V9KgdnYDZZ"
      },
      "source": [
        "import pyspark"
      ],
      "execution_count": 3,
      "outputs": []
    },
    {
      "cell_type": "code",
      "metadata": {
        "id": "Lr5ABDgGYDU0"
      },
      "source": [
        "from pyspark.sql import SparkSession"
      ],
      "execution_count": 5,
      "outputs": []
    },
    {
      "cell_type": "code",
      "metadata": {
        "id": "qX99J_gLYDLo"
      },
      "source": [
        "spark=SparkSession.builder.appName('practice').getOrCreate()"
      ],
      "execution_count": 6,
      "outputs": []
    },
    {
      "cell_type": "code",
      "metadata": {
        "colab": {
          "base_uri": "https://localhost:8080/",
          "height": 221
        },
        "id": "Iq3YX2vTYDIJ",
        "outputId": "a43f7882-59d9-4f37-bfad-162d546b84a6"
      },
      "source": [
        "spark"
      ],
      "execution_count": 7,
      "outputs": [
        {
          "output_type": "execute_result",
          "data": {
            "text/html": [
              "\n",
              "            <div>\n",
              "                <p><b>SparkSession - in-memory</b></p>\n",
              "                \n",
              "        <div>\n",
              "            <p><b>SparkContext</b></p>\n",
              "\n",
              "            <p><a href=\"http://30ab16709b07:4040\">Spark UI</a></p>\n",
              "\n",
              "            <dl>\n",
              "              <dt>Version</dt>\n",
              "                <dd><code>v3.1.2</code></dd>\n",
              "              <dt>Master</dt>\n",
              "                <dd><code>local[*]</code></dd>\n",
              "              <dt>AppName</dt>\n",
              "                <dd><code>practice</code></dd>\n",
              "            </dl>\n",
              "        </div>\n",
              "        \n",
              "            </div>\n",
              "        "
            ],
            "text/plain": [
              "<pyspark.sql.session.SparkSession at 0x7ff07e657310>"
            ]
          },
          "metadata": {
            "tags": []
          },
          "execution_count": 7
        }
      ]
    },
    {
      "cell_type": "code",
      "metadata": {
        "id": "mfUr8x8uYDD_"
      },
      "source": [
        "df_pyspark=spark.read.csv('/content/Customer.csv')"
      ],
      "execution_count": 8,
      "outputs": []
    },
    {
      "cell_type": "code",
      "metadata": {
        "colab": {
          "base_uri": "https://localhost:8080/"
        },
        "id": "j7dEzpWdYC_X",
        "outputId": "0f1c36b0-61b2-4685-eb14-7e31e1fb51a0"
      },
      "source": [
        "df_pyspark.show()"
      ],
      "execution_count": 10,
      "outputs": [
        {
          "output_type": "stream",
          "text": [
            "+-----------+------------------+-----------+---+-------------+---------------+--------------+-----------+-------+\n",
            "|        _c0|               _c1|        _c2|_c3|          _c4|            _c5|           _c6|        _c7|    _c8|\n",
            "+-----------+------------------+-----------+---+-------------+---------------+--------------+-----------+-------+\n",
            "|Customer ID|     Customer Name|    Segment|Age|      Country|           City|         State|Postal Code| Region|\n",
            "|   CG-12520|       Claire Gute|   Consumer| 67|United States|      Henderson|      Kentucky|      42420|  South|\n",
            "|   DV-13045|   Darrin Van Huff|  Corporate| 31|United States|    Los Angeles|    California|      90036|   West|\n",
            "|   SO-20335|    Sean O'Donnell|   Consumer| 65|United States|Fort Lauderdale|       Florida|      33311|  South|\n",
            "|   BH-11710|   Brosina Hoffman|   Consumer| 20|United States|    Los Angeles|    California|      90032|   West|\n",
            "|   AA-10480|      Andrew Allen|   Consumer| 50|United States|        Concord|North Carolina|      28027|  South|\n",
            "|   IM-15070|      Irene Maddox|   Consumer| 66|United States|        Seattle|    Washington|      98103|   West|\n",
            "|   HP-14815|     Harold Pawlan|Home Office| 20|United States|     Fort Worth|         Texas|      76106|Central|\n",
            "|   PK-19075|         Pete Kriz|   Consumer| 46|United States|        Madison|     Wisconsin|      53711|Central|\n",
            "|   AG-10270|   Alejandro Grove|   Consumer| 18|United States|    West Jordan|          Utah|      84084|   West|\n",
            "|   ZD-21925|Zuschuss Donatelli|   Consumer| 66|United States|  San Francisco|    California|      94109|   West|\n",
            "|   KB-16585|         Ken Black|  Corporate| 67|United States|        Fremont|      Nebraska|      68025|Central|\n",
            "|   SF-20065|   Sandra Flanagan|   Consumer| 41|United States|   Philadelphia|  Pennsylvania|      19140|   East|\n",
            "|   EB-13870|       Emily Burns|   Consumer| 34|United States|           Orem|          Utah|      84057|   West|\n",
            "|   EH-13945|     Eric Hoffmann|   Consumer| 21|United States|    Los Angeles|    California|      90049|   West|\n",
            "|   TB-21520|   Tracy Blumstein|   Consumer| 48|United States|   Philadelphia|  Pennsylvania|      19140|   East|\n",
            "|   MA-17560|      Matt Abelman|Home Office| 19|United States|        Houston|         Texas|      77095|Central|\n",
            "|   GH-14485|         Gene Hale|  Corporate| 28|United States|     Richardson|         Texas|      75080|Central|\n",
            "|   SN-20710|      Steve Nguyen|Home Office| 46|United States|        Houston|         Texas|      77041|Central|\n",
            "|   LC-16930|    Linda Cazamias|  Corporate| 31|United States|     Naperville|      Illinois|      60540|Central|\n",
            "+-----------+------------------+-----------+---+-------------+---------------+--------------+-----------+-------+\n",
            "only showing top 20 rows\n",
            "\n"
          ],
          "name": "stdout"
        }
      ]
    },
    {
      "cell_type": "code",
      "metadata": {
        "id": "h31Vz5IMYC8-"
      },
      "source": [
        "df_pyspark=spark.read.option('header','true').csv('/content/Customer.csv')"
      ],
      "execution_count": 11,
      "outputs": []
    },
    {
      "cell_type": "code",
      "metadata": {
        "colab": {
          "base_uri": "https://localhost:8080/"
        },
        "id": "axNLAwGmYCu1",
        "outputId": "e84c24a3-ec72-48cf-cc6d-f5529cc3323a"
      },
      "source": [
        "df_pyspark.show()"
      ],
      "execution_count": 14,
      "outputs": [
        {
          "output_type": "stream",
          "text": [
            "+-----------+------------------+-----------+---+-------------+---------------+--------------+-----------+-------+\n",
            "|Customer ID|     Customer Name|    Segment|Age|      Country|           City|         State|Postal Code| Region|\n",
            "+-----------+------------------+-----------+---+-------------+---------------+--------------+-----------+-------+\n",
            "|   CG-12520|       Claire Gute|   Consumer| 67|United States|      Henderson|      Kentucky|      42420|  South|\n",
            "|   DV-13045|   Darrin Van Huff|  Corporate| 31|United States|    Los Angeles|    California|      90036|   West|\n",
            "|   SO-20335|    Sean O'Donnell|   Consumer| 65|United States|Fort Lauderdale|       Florida|      33311|  South|\n",
            "|   BH-11710|   Brosina Hoffman|   Consumer| 20|United States|    Los Angeles|    California|      90032|   West|\n",
            "|   AA-10480|      Andrew Allen|   Consumer| 50|United States|        Concord|North Carolina|      28027|  South|\n",
            "|   IM-15070|      Irene Maddox|   Consumer| 66|United States|        Seattle|    Washington|      98103|   West|\n",
            "|   HP-14815|     Harold Pawlan|Home Office| 20|United States|     Fort Worth|         Texas|      76106|Central|\n",
            "|   PK-19075|         Pete Kriz|   Consumer| 46|United States|        Madison|     Wisconsin|      53711|Central|\n",
            "|   AG-10270|   Alejandro Grove|   Consumer| 18|United States|    West Jordan|          Utah|      84084|   West|\n",
            "|   ZD-21925|Zuschuss Donatelli|   Consumer| 66|United States|  San Francisco|    California|      94109|   West|\n",
            "|   KB-16585|         Ken Black|  Corporate| 67|United States|        Fremont|      Nebraska|      68025|Central|\n",
            "|   SF-20065|   Sandra Flanagan|   Consumer| 41|United States|   Philadelphia|  Pennsylvania|      19140|   East|\n",
            "|   EB-13870|       Emily Burns|   Consumer| 34|United States|           Orem|          Utah|      84057|   West|\n",
            "|   EH-13945|     Eric Hoffmann|   Consumer| 21|United States|    Los Angeles|    California|      90049|   West|\n",
            "|   TB-21520|   Tracy Blumstein|   Consumer| 48|United States|   Philadelphia|  Pennsylvania|      19140|   East|\n",
            "|   MA-17560|      Matt Abelman|Home Office| 19|United States|        Houston|         Texas|      77095|Central|\n",
            "|   GH-14485|         Gene Hale|  Corporate| 28|United States|     Richardson|         Texas|      75080|Central|\n",
            "|   SN-20710|      Steve Nguyen|Home Office| 46|United States|        Houston|         Texas|      77041|Central|\n",
            "|   LC-16930|    Linda Cazamias|  Corporate| 31|United States|     Naperville|      Illinois|      60540|Central|\n",
            "|   RA-19885|      Ruben Ausman|  Corporate| 51|United States|    Los Angeles|    California|      90049|   West|\n",
            "+-----------+------------------+-----------+---+-------------+---------------+--------------+-----------+-------+\n",
            "only showing top 20 rows\n",
            "\n"
          ],
          "name": "stdout"
        }
      ]
    },
    {
      "cell_type": "code",
      "metadata": {
        "colab": {
          "base_uri": "https://localhost:8080/"
        },
        "id": "OKTh52yjYCqF",
        "outputId": "b1ec805a-f802-475d-ed01-c89afe04ec68"
      },
      "source": [
        "type(df_pyspark)"
      ],
      "execution_count": 15,
      "outputs": [
        {
          "output_type": "execute_result",
          "data": {
            "text/plain": [
              "pyspark.sql.dataframe.DataFrame"
            ]
          },
          "metadata": {
            "tags": []
          },
          "execution_count": 15
        }
      ]
    },
    {
      "cell_type": "code",
      "metadata": {
        "colab": {
          "base_uri": "https://localhost:8080/"
        },
        "id": "5tf-wbo2YCmP",
        "outputId": "e40abf87-76c4-43ec-b19a-a0d3750cbc2c"
      },
      "source": [
        "df_pyspark.printSchema()"
      ],
      "execution_count": 17,
      "outputs": [
        {
          "output_type": "stream",
          "text": [
            "root\n",
            " |-- Customer ID: string (nullable = true)\n",
            " |-- Customer Name: string (nullable = true)\n",
            " |-- Segment: string (nullable = true)\n",
            " |-- Age: string (nullable = true)\n",
            " |-- Country: string (nullable = true)\n",
            " |-- City: string (nullable = true)\n",
            " |-- State: string (nullable = true)\n",
            " |-- Postal Code: string (nullable = true)\n",
            " |-- Region: string (nullable = true)\n",
            "\n"
          ],
          "name": "stdout"
        }
      ]
    },
    {
      "cell_type": "code",
      "metadata": {
        "id": "7tc_ZBiIYCjs"
      },
      "source": [
        "#since we can see in the above schema our age is also read as string so we can solve it by"
      ],
      "execution_count": null,
      "outputs": []
    },
    {
      "cell_type": "code",
      "metadata": {
        "id": "O0-IOcHAYCf0"
      },
      "source": [
        "df_pyspark=spark.read.option('header','True').csv('/content/Customer.csv',inferSchema=True)"
      ],
      "execution_count": 18,
      "outputs": []
    },
    {
      "cell_type": "code",
      "metadata": {
        "colab": {
          "base_uri": "https://localhost:8080/"
        },
        "id": "ESFqZJubYCdr",
        "outputId": "b8989cbb-01ce-4a8c-dcb7-5b718856d2b5"
      },
      "source": [
        "df_pyspark.printSchema()# now its solved "
      ],
      "execution_count": 19,
      "outputs": [
        {
          "output_type": "stream",
          "text": [
            "root\n",
            " |-- Customer ID: string (nullable = true)\n",
            " |-- Customer Name: string (nullable = true)\n",
            " |-- Segment: string (nullable = true)\n",
            " |-- Age: integer (nullable = true)\n",
            " |-- Country: string (nullable = true)\n",
            " |-- City: string (nullable = true)\n",
            " |-- State: string (nullable = true)\n",
            " |-- Postal Code: integer (nullable = true)\n",
            " |-- Region: string (nullable = true)\n",
            "\n"
          ],
          "name": "stdout"
        }
      ]
    },
    {
      "cell_type": "code",
      "metadata": {
        "colab": {
          "base_uri": "https://localhost:8080/"
        },
        "id": "g6u1TWh8YCah",
        "outputId": "d5bcc7a5-af52-4808-efe0-d61ac6320402"
      },
      "source": [
        "#another way of reading the file is \n",
        "df_pyspark=spark.read.csv('/content/Customer.csv',header=True,inferSchema=True)\n",
        "#df_pyspark.show()\n",
        "df_pyspark.printSchema()"
      ],
      "execution_count": 21,
      "outputs": [
        {
          "output_type": "stream",
          "text": [
            "root\n",
            " |-- Customer ID: string (nullable = true)\n",
            " |-- Customer Name: string (nullable = true)\n",
            " |-- Segment: string (nullable = true)\n",
            " |-- Age: integer (nullable = true)\n",
            " |-- Country: string (nullable = true)\n",
            " |-- City: string (nullable = true)\n",
            " |-- State: string (nullable = true)\n",
            " |-- Postal Code: integer (nullable = true)\n",
            " |-- Region: string (nullable = true)\n",
            "\n"
          ],
          "name": "stdout"
        }
      ]
    },
    {
      "cell_type": "code",
      "metadata": {
        "colab": {
          "base_uri": "https://localhost:8080/"
        },
        "id": "_Q76g_6UYCXh",
        "outputId": "166532a1-c0c0-421e-e23b-6b2a438ff6d0"
      },
      "source": [
        "df_pyspark.columns"
      ],
      "execution_count": 22,
      "outputs": [
        {
          "output_type": "execute_result",
          "data": {
            "text/plain": [
              "['Customer ID',\n",
              " 'Customer Name',\n",
              " 'Segment',\n",
              " 'Age',\n",
              " 'Country',\n",
              " 'City',\n",
              " 'State',\n",
              " 'Postal Code',\n",
              " 'Region']"
            ]
          },
          "metadata": {
            "tags": []
          },
          "execution_count": 22
        }
      ]
    },
    {
      "cell_type": "code",
      "metadata": {
        "colab": {
          "base_uri": "https://localhost:8080/"
        },
        "id": "H3Zoyj7-YCU9",
        "outputId": "209d618b-49fb-4511-b0b1-aacb712aa705"
      },
      "source": [
        "#selecting a coloumn in pyspark\n",
        "\n",
        "df_pyspark.select('City','Country').show()"
      ],
      "execution_count": 24,
      "outputs": [
        {
          "output_type": "stream",
          "text": [
            "+---------------+-------------+\n",
            "|           City|      Country|\n",
            "+---------------+-------------+\n",
            "|      Henderson|United States|\n",
            "|    Los Angeles|United States|\n",
            "|Fort Lauderdale|United States|\n",
            "|    Los Angeles|United States|\n",
            "|        Concord|United States|\n",
            "|        Seattle|United States|\n",
            "|     Fort Worth|United States|\n",
            "|        Madison|United States|\n",
            "|    West Jordan|United States|\n",
            "|  San Francisco|United States|\n",
            "|        Fremont|United States|\n",
            "|   Philadelphia|United States|\n",
            "|           Orem|United States|\n",
            "|    Los Angeles|United States|\n",
            "|   Philadelphia|United States|\n",
            "|        Houston|United States|\n",
            "|     Richardson|United States|\n",
            "|        Houston|United States|\n",
            "|     Naperville|United States|\n",
            "|    Los Angeles|United States|\n",
            "+---------------+-------------+\n",
            "only showing top 20 rows\n",
            "\n"
          ],
          "name": "stdout"
        }
      ]
    },
    {
      "cell_type": "code",
      "metadata": {
        "colab": {
          "base_uri": "https://localhost:8080/"
        },
        "id": "CID3R4HJYCRp",
        "outputId": "9f1f1316-6c23-4ab5-be89-d10bf0e24c2a"
      },
      "source": [
        "df_pyspark.dtypes"
      ],
      "execution_count": 26,
      "outputs": [
        {
          "output_type": "execute_result",
          "data": {
            "text/plain": [
              "[('Customer ID', 'string'),\n",
              " ('Customer Name', 'string'),\n",
              " ('Segment', 'string'),\n",
              " ('Age', 'int'),\n",
              " ('Country', 'string'),\n",
              " ('City', 'string'),\n",
              " ('State', 'string'),\n",
              " ('Postal Code', 'int'),\n",
              " ('Region', 'string')]"
            ]
          },
          "metadata": {
            "tags": []
          },
          "execution_count": 26
        }
      ]
    },
    {
      "cell_type": "code",
      "metadata": {
        "colab": {
          "base_uri": "https://localhost:8080/"
        },
        "id": "XFb1p2WtYCO0",
        "outputId": "86e32013-651a-465e-f177-2d9e2a6309fd"
      },
      "source": [
        "df_pyspark.describe().show()"
      ],
      "execution_count": 28,
      "outputs": [
        {
          "output_type": "stream",
          "text": [
            "+-------+-----------+------------------+-----------+-----------------+-------------+----------+---------+------------------+-------+\n",
            "|summary|Customer ID|     Customer Name|    Segment|              Age|      Country|      City|    State|       Postal Code| Region|\n",
            "+-------+-----------+------------------+-----------+-----------------+-------------+----------+---------+------------------+-------+\n",
            "|  count|        793|               793|        793|              793|          793|       793|      793|               793|    793|\n",
            "|   mean|       null|              null|       null|44.46784363177806|         null|      null|     null|55229.717528373265|   null|\n",
            "| stddev|       null|              null|       null|15.52667263605551|         null|      null|     null| 31679.22381580119|   null|\n",
            "|    min|   AA-10315|     Aaron Bergman|   Consumer|               18|United States|     Akron|  Alabama|              1841|Central|\n",
            "|    max|   ZD-21925|Zuschuss Donatelli|Home Office|               70|United States|Wilmington|Wisconsin|             99207|   West|\n",
            "+-------+-----------+------------------+-----------+-----------------+-------------+----------+---------+------------------+-------+\n",
            "\n"
          ],
          "name": "stdout"
        }
      ]
    },
    {
      "cell_type": "code",
      "metadata": {
        "colab": {
          "base_uri": "https://localhost:8080/"
        },
        "id": "nWh6lVv7YCLq",
        "outputId": "2c14c1af-6e9e-4376-c83f-03c71b862a4e"
      },
      "source": [
        "#Adding Columns and Dropping Columns\n",
        "df_pyspark.withColumn('Age after 2years',df_pyspark['Age']+2).show()"
      ],
      "execution_count": 30,
      "outputs": [
        {
          "output_type": "stream",
          "text": [
            "+-----------+------------------+-----------+---+-------------+---------------+--------------+-----------+-------+----------------+\n",
            "|Customer ID|     Customer Name|    Segment|Age|      Country|           City|         State|Postal Code| Region|Age after 2years|\n",
            "+-----------+------------------+-----------+---+-------------+---------------+--------------+-----------+-------+----------------+\n",
            "|   CG-12520|       Claire Gute|   Consumer| 67|United States|      Henderson|      Kentucky|      42420|  South|              69|\n",
            "|   DV-13045|   Darrin Van Huff|  Corporate| 31|United States|    Los Angeles|    California|      90036|   West|              33|\n",
            "|   SO-20335|    Sean O'Donnell|   Consumer| 65|United States|Fort Lauderdale|       Florida|      33311|  South|              67|\n",
            "|   BH-11710|   Brosina Hoffman|   Consumer| 20|United States|    Los Angeles|    California|      90032|   West|              22|\n",
            "|   AA-10480|      Andrew Allen|   Consumer| 50|United States|        Concord|North Carolina|      28027|  South|              52|\n",
            "|   IM-15070|      Irene Maddox|   Consumer| 66|United States|        Seattle|    Washington|      98103|   West|              68|\n",
            "|   HP-14815|     Harold Pawlan|Home Office| 20|United States|     Fort Worth|         Texas|      76106|Central|              22|\n",
            "|   PK-19075|         Pete Kriz|   Consumer| 46|United States|        Madison|     Wisconsin|      53711|Central|              48|\n",
            "|   AG-10270|   Alejandro Grove|   Consumer| 18|United States|    West Jordan|          Utah|      84084|   West|              20|\n",
            "|   ZD-21925|Zuschuss Donatelli|   Consumer| 66|United States|  San Francisco|    California|      94109|   West|              68|\n",
            "|   KB-16585|         Ken Black|  Corporate| 67|United States|        Fremont|      Nebraska|      68025|Central|              69|\n",
            "|   SF-20065|   Sandra Flanagan|   Consumer| 41|United States|   Philadelphia|  Pennsylvania|      19140|   East|              43|\n",
            "|   EB-13870|       Emily Burns|   Consumer| 34|United States|           Orem|          Utah|      84057|   West|              36|\n",
            "|   EH-13945|     Eric Hoffmann|   Consumer| 21|United States|    Los Angeles|    California|      90049|   West|              23|\n",
            "|   TB-21520|   Tracy Blumstein|   Consumer| 48|United States|   Philadelphia|  Pennsylvania|      19140|   East|              50|\n",
            "|   MA-17560|      Matt Abelman|Home Office| 19|United States|        Houston|         Texas|      77095|Central|              21|\n",
            "|   GH-14485|         Gene Hale|  Corporate| 28|United States|     Richardson|         Texas|      75080|Central|              30|\n",
            "|   SN-20710|      Steve Nguyen|Home Office| 46|United States|        Houston|         Texas|      77041|Central|              48|\n",
            "|   LC-16930|    Linda Cazamias|  Corporate| 31|United States|     Naperville|      Illinois|      60540|Central|              33|\n",
            "|   RA-19885|      Ruben Ausman|  Corporate| 51|United States|    Los Angeles|    California|      90049|   West|              53|\n",
            "+-----------+------------------+-----------+---+-------------+---------------+--------------+-----------+-------+----------------+\n",
            "only showing top 20 rows\n",
            "\n"
          ],
          "name": "stdout"
        }
      ]
    },
    {
      "cell_type": "code",
      "metadata": {
        "id": "TyOuBR6sYCIX"
      },
      "source": [
        "df_pyspark=df_pyspark.withColumn('Age after 2years',df_pyspark['Age']+2)"
      ],
      "execution_count": 31,
      "outputs": []
    },
    {
      "cell_type": "code",
      "metadata": {
        "colab": {
          "base_uri": "https://localhost:8080/"
        },
        "id": "bx82x2APYCDd",
        "outputId": "1a78641a-30c8-4a86-b9f5-0018c4b0a621"
      },
      "source": [
        "df_pyspark.show()"
      ],
      "execution_count": 32,
      "outputs": [
        {
          "output_type": "stream",
          "text": [
            "+-----------+------------------+-----------+---+-------------+---------------+--------------+-----------+-------+----------------+\n",
            "|Customer ID|     Customer Name|    Segment|Age|      Country|           City|         State|Postal Code| Region|Age after 2years|\n",
            "+-----------+------------------+-----------+---+-------------+---------------+--------------+-----------+-------+----------------+\n",
            "|   CG-12520|       Claire Gute|   Consumer| 67|United States|      Henderson|      Kentucky|      42420|  South|              69|\n",
            "|   DV-13045|   Darrin Van Huff|  Corporate| 31|United States|    Los Angeles|    California|      90036|   West|              33|\n",
            "|   SO-20335|    Sean O'Donnell|   Consumer| 65|United States|Fort Lauderdale|       Florida|      33311|  South|              67|\n",
            "|   BH-11710|   Brosina Hoffman|   Consumer| 20|United States|    Los Angeles|    California|      90032|   West|              22|\n",
            "|   AA-10480|      Andrew Allen|   Consumer| 50|United States|        Concord|North Carolina|      28027|  South|              52|\n",
            "|   IM-15070|      Irene Maddox|   Consumer| 66|United States|        Seattle|    Washington|      98103|   West|              68|\n",
            "|   HP-14815|     Harold Pawlan|Home Office| 20|United States|     Fort Worth|         Texas|      76106|Central|              22|\n",
            "|   PK-19075|         Pete Kriz|   Consumer| 46|United States|        Madison|     Wisconsin|      53711|Central|              48|\n",
            "|   AG-10270|   Alejandro Grove|   Consumer| 18|United States|    West Jordan|          Utah|      84084|   West|              20|\n",
            "|   ZD-21925|Zuschuss Donatelli|   Consumer| 66|United States|  San Francisco|    California|      94109|   West|              68|\n",
            "|   KB-16585|         Ken Black|  Corporate| 67|United States|        Fremont|      Nebraska|      68025|Central|              69|\n",
            "|   SF-20065|   Sandra Flanagan|   Consumer| 41|United States|   Philadelphia|  Pennsylvania|      19140|   East|              43|\n",
            "|   EB-13870|       Emily Burns|   Consumer| 34|United States|           Orem|          Utah|      84057|   West|              36|\n",
            "|   EH-13945|     Eric Hoffmann|   Consumer| 21|United States|    Los Angeles|    California|      90049|   West|              23|\n",
            "|   TB-21520|   Tracy Blumstein|   Consumer| 48|United States|   Philadelphia|  Pennsylvania|      19140|   East|              50|\n",
            "|   MA-17560|      Matt Abelman|Home Office| 19|United States|        Houston|         Texas|      77095|Central|              21|\n",
            "|   GH-14485|         Gene Hale|  Corporate| 28|United States|     Richardson|         Texas|      75080|Central|              30|\n",
            "|   SN-20710|      Steve Nguyen|Home Office| 46|United States|        Houston|         Texas|      77041|Central|              48|\n",
            "|   LC-16930|    Linda Cazamias|  Corporate| 31|United States|     Naperville|      Illinois|      60540|Central|              33|\n",
            "|   RA-19885|      Ruben Ausman|  Corporate| 51|United States|    Los Angeles|    California|      90049|   West|              53|\n",
            "+-----------+------------------+-----------+---+-------------+---------------+--------------+-----------+-------+----------------+\n",
            "only showing top 20 rows\n",
            "\n"
          ],
          "name": "stdout"
        }
      ]
    },
    {
      "cell_type": "code",
      "metadata": {
        "colab": {
          "base_uri": "https://localhost:8080/"
        },
        "id": "4J7WpNtTYCAO",
        "outputId": "2b84cf38-cf02-443b-e60d-19a5c4d043cb"
      },
      "source": [
        "#dropping the columns\n",
        "df_pyspark=df_pyspark.drop('Age after 2years')\n",
        "df_pyspark.show()"
      ],
      "execution_count": 34,
      "outputs": [
        {
          "output_type": "stream",
          "text": [
            "+-----------+------------------+-----------+---+-------------+---------------+--------------+-----------+-------+\n",
            "|Customer ID|     Customer Name|    Segment|Age|      Country|           City|         State|Postal Code| Region|\n",
            "+-----------+------------------+-----------+---+-------------+---------------+--------------+-----------+-------+\n",
            "|   CG-12520|       Claire Gute|   Consumer| 67|United States|      Henderson|      Kentucky|      42420|  South|\n",
            "|   DV-13045|   Darrin Van Huff|  Corporate| 31|United States|    Los Angeles|    California|      90036|   West|\n",
            "|   SO-20335|    Sean O'Donnell|   Consumer| 65|United States|Fort Lauderdale|       Florida|      33311|  South|\n",
            "|   BH-11710|   Brosina Hoffman|   Consumer| 20|United States|    Los Angeles|    California|      90032|   West|\n",
            "|   AA-10480|      Andrew Allen|   Consumer| 50|United States|        Concord|North Carolina|      28027|  South|\n",
            "|   IM-15070|      Irene Maddox|   Consumer| 66|United States|        Seattle|    Washington|      98103|   West|\n",
            "|   HP-14815|     Harold Pawlan|Home Office| 20|United States|     Fort Worth|         Texas|      76106|Central|\n",
            "|   PK-19075|         Pete Kriz|   Consumer| 46|United States|        Madison|     Wisconsin|      53711|Central|\n",
            "|   AG-10270|   Alejandro Grove|   Consumer| 18|United States|    West Jordan|          Utah|      84084|   West|\n",
            "|   ZD-21925|Zuschuss Donatelli|   Consumer| 66|United States|  San Francisco|    California|      94109|   West|\n",
            "|   KB-16585|         Ken Black|  Corporate| 67|United States|        Fremont|      Nebraska|      68025|Central|\n",
            "|   SF-20065|   Sandra Flanagan|   Consumer| 41|United States|   Philadelphia|  Pennsylvania|      19140|   East|\n",
            "|   EB-13870|       Emily Burns|   Consumer| 34|United States|           Orem|          Utah|      84057|   West|\n",
            "|   EH-13945|     Eric Hoffmann|   Consumer| 21|United States|    Los Angeles|    California|      90049|   West|\n",
            "|   TB-21520|   Tracy Blumstein|   Consumer| 48|United States|   Philadelphia|  Pennsylvania|      19140|   East|\n",
            "|   MA-17560|      Matt Abelman|Home Office| 19|United States|        Houston|         Texas|      77095|Central|\n",
            "|   GH-14485|         Gene Hale|  Corporate| 28|United States|     Richardson|         Texas|      75080|Central|\n",
            "|   SN-20710|      Steve Nguyen|Home Office| 46|United States|        Houston|         Texas|      77041|Central|\n",
            "|   LC-16930|    Linda Cazamias|  Corporate| 31|United States|     Naperville|      Illinois|      60540|Central|\n",
            "|   RA-19885|      Ruben Ausman|  Corporate| 51|United States|    Los Angeles|    California|      90049|   West|\n",
            "+-----------+------------------+-----------+---+-------------+---------------+--------------+-----------+-------+\n",
            "only showing top 20 rows\n",
            "\n"
          ],
          "name": "stdout"
        }
      ]
    },
    {
      "cell_type": "code",
      "metadata": {
        "colab": {
          "base_uri": "https://localhost:8080/"
        },
        "id": "h5Ct9aVFYB5a",
        "outputId": "708711d7-2dd2-42b6-b3bf-d980c6e73fb5"
      },
      "source": [
        "#renaming the columns \n",
        "df_pyspark.withColumnRenamed(\"Segment\",\"Type\").show()"
      ],
      "execution_count": 35,
      "outputs": [
        {
          "output_type": "stream",
          "text": [
            "+-----------+------------------+-----------+---+-------------+---------------+--------------+-----------+-------+\n",
            "|Customer ID|     Customer Name|       Type|Age|      Country|           City|         State|Postal Code| Region|\n",
            "+-----------+------------------+-----------+---+-------------+---------------+--------------+-----------+-------+\n",
            "|   CG-12520|       Claire Gute|   Consumer| 67|United States|      Henderson|      Kentucky|      42420|  South|\n",
            "|   DV-13045|   Darrin Van Huff|  Corporate| 31|United States|    Los Angeles|    California|      90036|   West|\n",
            "|   SO-20335|    Sean O'Donnell|   Consumer| 65|United States|Fort Lauderdale|       Florida|      33311|  South|\n",
            "|   BH-11710|   Brosina Hoffman|   Consumer| 20|United States|    Los Angeles|    California|      90032|   West|\n",
            "|   AA-10480|      Andrew Allen|   Consumer| 50|United States|        Concord|North Carolina|      28027|  South|\n",
            "|   IM-15070|      Irene Maddox|   Consumer| 66|United States|        Seattle|    Washington|      98103|   West|\n",
            "|   HP-14815|     Harold Pawlan|Home Office| 20|United States|     Fort Worth|         Texas|      76106|Central|\n",
            "|   PK-19075|         Pete Kriz|   Consumer| 46|United States|        Madison|     Wisconsin|      53711|Central|\n",
            "|   AG-10270|   Alejandro Grove|   Consumer| 18|United States|    West Jordan|          Utah|      84084|   West|\n",
            "|   ZD-21925|Zuschuss Donatelli|   Consumer| 66|United States|  San Francisco|    California|      94109|   West|\n",
            "|   KB-16585|         Ken Black|  Corporate| 67|United States|        Fremont|      Nebraska|      68025|Central|\n",
            "|   SF-20065|   Sandra Flanagan|   Consumer| 41|United States|   Philadelphia|  Pennsylvania|      19140|   East|\n",
            "|   EB-13870|       Emily Burns|   Consumer| 34|United States|           Orem|          Utah|      84057|   West|\n",
            "|   EH-13945|     Eric Hoffmann|   Consumer| 21|United States|    Los Angeles|    California|      90049|   West|\n",
            "|   TB-21520|   Tracy Blumstein|   Consumer| 48|United States|   Philadelphia|  Pennsylvania|      19140|   East|\n",
            "|   MA-17560|      Matt Abelman|Home Office| 19|United States|        Houston|         Texas|      77095|Central|\n",
            "|   GH-14485|         Gene Hale|  Corporate| 28|United States|     Richardson|         Texas|      75080|Central|\n",
            "|   SN-20710|      Steve Nguyen|Home Office| 46|United States|        Houston|         Texas|      77041|Central|\n",
            "|   LC-16930|    Linda Cazamias|  Corporate| 31|United States|     Naperville|      Illinois|      60540|Central|\n",
            "|   RA-19885|      Ruben Ausman|  Corporate| 51|United States|    Los Angeles|    California|      90049|   West|\n",
            "+-----------+------------------+-----------+---+-------------+---------------+--------------+-----------+-------+\n",
            "only showing top 20 rows\n",
            "\n"
          ],
          "name": "stdout"
        }
      ]
    },
    {
      "cell_type": "markdown",
      "metadata": {
        "id": "k_KAc6E8kCAB"
      },
      "source": [
        "#handling missing values  and dropping nan values"
      ]
    },
    {
      "cell_type": "code",
      "metadata": {
        "id": "2B24WpXRYB1M"
      },
      "source": [
        "from pyspark.sql import SparkSession\n",
        "Spark=SparkSession.builder.appName(\"dataFrame\").getOrCreate()"
      ],
      "execution_count": 41,
      "outputs": []
    },
    {
      "cell_type": "code",
      "metadata": {
        "colab": {
          "base_uri": "https://localhost:8080/"
        },
        "id": "txnK7HTwYByN",
        "outputId": "bbcfd5ef-6561-4e22-bfd0-50cf8bd7dba4"
      },
      "source": [
        "df=spark.read.csv('/content/test2.csv',header=True,inferSchema=True)\n",
        "df.printSchema()"
      ],
      "execution_count": 43,
      "outputs": [
        {
          "output_type": "stream",
          "text": [
            "root\n",
            " |-- Name: string (nullable = true)\n",
            " |-- age: integer (nullable = true)\n",
            " |-- Experience: integer (nullable = true)\n",
            " |-- Salary: integer (nullable = true)\n",
            "\n"
          ],
          "name": "stdout"
        }
      ]
    },
    {
      "cell_type": "code",
      "metadata": {
        "colab": {
          "base_uri": "https://localhost:8080/"
        },
        "id": "dV_FvdcyYBsm",
        "outputId": "00c61446-14cb-4fa6-a73a-29c0648179bf"
      },
      "source": [
        "df.show()"
      ],
      "execution_count": 44,
      "outputs": [
        {
          "output_type": "stream",
          "text": [
            "+---------+----+----------+------+\n",
            "|     Name| age|Experience|Salary|\n",
            "+---------+----+----------+------+\n",
            "| Abhishek|  31|        10| 30000|\n",
            "|  Lavisha|  30|         8| 25000|\n",
            "|    Chotu|  29|         4| 20000|\n",
            "|    Manoj|  24|         3| 20000|\n",
            "|     Raks|  21|         1| 15000|\n",
            "|    Bittu|  23|         2| 18000|\n",
            "|Shamsheer|null|      null| 40000|\n",
            "|     null|  34|        10| 38000|\n",
            "|     null|  36|      null|  null|\n",
            "+---------+----+----------+------+\n",
            "\n"
          ],
          "name": "stdout"
        }
      ]
    },
    {
      "cell_type": "code",
      "metadata": {
        "colab": {
          "base_uri": "https://localhost:8080/"
        },
        "id": "LKfyNne-YATZ",
        "outputId": "cfbd9971-1cc1-45a3-c2d6-e82f3d1d0fb4"
      },
      "source": [
        "df.dropna().show()"
      ],
      "execution_count": 45,
      "outputs": [
        {
          "output_type": "stream",
          "text": [
            "+--------+---+----------+------+\n",
            "|    Name|age|Experience|Salary|\n",
            "+--------+---+----------+------+\n",
            "|Abhishek| 31|        10| 30000|\n",
            "| Lavisha| 30|         8| 25000|\n",
            "|   Chotu| 29|         4| 20000|\n",
            "|   Manoj| 24|         3| 20000|\n",
            "|    Raks| 21|         1| 15000|\n",
            "|   Bittu| 23|         2| 18000|\n",
            "+--------+---+----------+------+\n",
            "\n"
          ],
          "name": "stdout"
        }
      ]
    },
    {
      "cell_type": "code",
      "metadata": {
        "colab": {
          "base_uri": "https://localhost:8080/"
        },
        "id": "X0IN7IQPk_4q",
        "outputId": "32b9fd95-a4c6-443b-90ca-d89c5dfe55a2"
      },
      "source": [
        "# another way of doing it is \n",
        "df.na.drop(how='all').show()#how=\"any\"means even if one null then drop if \"all then all the values should be null\""
      ],
      "execution_count": 46,
      "outputs": [
        {
          "output_type": "stream",
          "text": [
            "+---------+----+----------+------+\n",
            "|     Name| age|Experience|Salary|\n",
            "+---------+----+----------+------+\n",
            "| Abhishek|  31|        10| 30000|\n",
            "|  Lavisha|  30|         8| 25000|\n",
            "|    Chotu|  29|         4| 20000|\n",
            "|    Manoj|  24|         3| 20000|\n",
            "|     Raks|  21|         1| 15000|\n",
            "|    Bittu|  23|         2| 18000|\n",
            "|Shamsheer|null|      null| 40000|\n",
            "|     null|  34|        10| 38000|\n",
            "|     null|  36|      null|  null|\n",
            "+---------+----+----------+------+\n",
            "\n"
          ],
          "name": "stdout"
        }
      ]
    },
    {
      "cell_type": "code",
      "metadata": {
        "colab": {
          "base_uri": "https://localhost:8080/"
        },
        "id": "Z--0bM8hk_1v",
        "outputId": "46df570f-90ba-4052-8be9-a30d95541d4e"
      },
      "source": [
        "df.dropna(how='any',thresh=2).show()#thresh=2 means atleast two non null values has to be there"
      ],
      "execution_count": 47,
      "outputs": [
        {
          "output_type": "stream",
          "text": [
            "+---------+----+----------+------+\n",
            "|     Name| age|Experience|Salary|\n",
            "+---------+----+----------+------+\n",
            "| Abhishek|  31|        10| 30000|\n",
            "|  Lavisha|  30|         8| 25000|\n",
            "|    Chotu|  29|         4| 20000|\n",
            "|    Manoj|  24|         3| 20000|\n",
            "|     Raks|  21|         1| 15000|\n",
            "|    Bittu|  23|         2| 18000|\n",
            "|Shamsheer|null|      null| 40000|\n",
            "|     null|  34|        10| 38000|\n",
            "+---------+----+----------+------+\n",
            "\n"
          ],
          "name": "stdout"
        }
      ]
    },
    {
      "cell_type": "code",
      "metadata": {
        "colab": {
          "base_uri": "https://localhost:8080/"
        },
        "id": "Y3C0sabxk_xy",
        "outputId": "95d2d551-ccfe-416c-a2b5-2241ecf27b4b"
      },
      "source": [
        "df.dropna(how='any',subset=['Experience']).show()"
      ],
      "execution_count": 48,
      "outputs": [
        {
          "output_type": "stream",
          "text": [
            "+--------+---+----------+------+\n",
            "|    Name|age|Experience|Salary|\n",
            "+--------+---+----------+------+\n",
            "|Abhishek| 31|        10| 30000|\n",
            "| Lavisha| 30|         8| 25000|\n",
            "|   Chotu| 29|         4| 20000|\n",
            "|   Manoj| 24|         3| 20000|\n",
            "|    Raks| 21|         1| 15000|\n",
            "|   Bittu| 23|         2| 18000|\n",
            "|    null| 34|        10| 38000|\n",
            "+--------+---+----------+------+\n",
            "\n"
          ],
          "name": "stdout"
        }
      ]
    },
    {
      "cell_type": "code",
      "metadata": {
        "colab": {
          "base_uri": "https://localhost:8080/"
        },
        "id": "EG8h6pnGmQhh",
        "outputId": "cb2514f0-c9a2-496a-c316-065b2a3c5e9f"
      },
      "source": [
        "df.na.fill(\"missing_value\",'Name').show()"
      ],
      "execution_count": 53,
      "outputs": [
        {
          "output_type": "stream",
          "text": [
            "+-------------+----+----------+------+\n",
            "|         Name| age|Experience|Salary|\n",
            "+-------------+----+----------+------+\n",
            "|     Abhishek|  31|        10| 30000|\n",
            "|      Lavisha|  30|         8| 25000|\n",
            "|        Chotu|  29|         4| 20000|\n",
            "|        Manoj|  24|         3| 20000|\n",
            "|         Raks|  21|         1| 15000|\n",
            "|        Bittu|  23|         2| 18000|\n",
            "|    Shamsheer|null|      null| 40000|\n",
            "|missing_value|  34|        10| 38000|\n",
            "|missing_value|  36|      null|  null|\n",
            "+-------------+----+----------+------+\n",
            "\n"
          ],
          "name": "stdout"
        }
      ]
    },
    {
      "cell_type": "code",
      "metadata": {
        "colab": {
          "base_uri": "https://localhost:8080/"
        },
        "id": "BA1AGZ1lk_uh",
        "outputId": "9963b8d7-7570-4915-b9e3-e8ca6c4eb825"
      },
      "source": [
        "df.show()"
      ],
      "execution_count": 54,
      "outputs": [
        {
          "output_type": "stream",
          "text": [
            "+---------+----+----------+------+\n",
            "|     Name| age|Experience|Salary|\n",
            "+---------+----+----------+------+\n",
            "| Abhishek|  31|        10| 30000|\n",
            "|  Lavisha|  30|         8| 25000|\n",
            "|    Chotu|  29|         4| 20000|\n",
            "|    Manoj|  24|         3| 20000|\n",
            "|     Raks|  21|         1| 15000|\n",
            "|    Bittu|  23|         2| 18000|\n",
            "|Shamsheer|null|      null| 40000|\n",
            "|     null|  34|        10| 38000|\n",
            "|     null|  36|      null|  null|\n",
            "+---------+----+----------+------+\n",
            "\n"
          ],
          "name": "stdout"
        }
      ]
    },
    {
      "cell_type": "code",
      "metadata": {
        "id": "Zs0JVLeJk_r9"
      },
      "source": [
        "#df['Age']=df.fillna(df['Age'].mean())\n",
        "use imputer for filling na with mean"
      ],
      "execution_count": null,
      "outputs": []
    },
    {
      "cell_type": "markdown",
      "metadata": {
        "id": "nZo3PCKkqbg_"
      },
      "source": [
        "Filter Operation in pyspark"
      ]
    },
    {
      "cell_type": "code",
      "metadata": {
        "colab": {
          "base_uri": "https://localhost:8080/"
        },
        "id": "vteRXjnFk_pT",
        "outputId": "cb66a33f-d2b3-4609-d7af-c9a83ad7e483"
      },
      "source": [
        "# finding age of people <=45\n",
        "df_pyspark.filter(\"Age<=45\").show()"
      ],
      "execution_count": 60,
      "outputs": [
        {
          "output_type": "stream",
          "text": [
            "+-----------+-----------------+-----------+---+-------------+-------------+------------+-----------+-------+\n",
            "|Customer ID|    Customer Name|    Segment|Age|      Country|         City|       State|Postal Code| Region|\n",
            "+-----------+-----------------+-----------+---+-------------+-------------+------------+-----------+-------+\n",
            "|   DV-13045|  Darrin Van Huff|  Corporate| 31|United States|  Los Angeles|  California|      90036|   West|\n",
            "|   BH-11710|  Brosina Hoffman|   Consumer| 20|United States|  Los Angeles|  California|      90032|   West|\n",
            "|   HP-14815|    Harold Pawlan|Home Office| 20|United States|   Fort Worth|       Texas|      76106|Central|\n",
            "|   AG-10270|  Alejandro Grove|   Consumer| 18|United States|  West Jordan|        Utah|      84084|   West|\n",
            "|   SF-20065|  Sandra Flanagan|   Consumer| 41|United States| Philadelphia|Pennsylvania|      19140|   East|\n",
            "|   EB-13870|      Emily Burns|   Consumer| 34|United States|         Orem|        Utah|      84057|   West|\n",
            "|   EH-13945|    Eric Hoffmann|   Consumer| 21|United States|  Los Angeles|  California|      90049|   West|\n",
            "|   MA-17560|     Matt Abelman|Home Office| 19|United States|      Houston|       Texas|      77095|Central|\n",
            "|   GH-14485|        Gene Hale|  Corporate| 28|United States|   Richardson|       Texas|      75080|Central|\n",
            "|   LC-16930|   Linda Cazamias|  Corporate| 31|United States|   Naperville|    Illinois|      60540|Central|\n",
            "|   ES-14080|       Erin Smith|  Corporate| 20|United States|    Melbourne|     Florida|      32935|  South|\n",
            "|   ON-18715|    Odella Nelson|  Corporate| 27|United States|        Eagan|   Minnesota|      55122|Central|\n",
            "|   DP-13000|    Darren Powers|   Consumer| 40|United States|   New Albany|     Indiana|      47150|Central|\n",
            "|   JM-15265|   Janet Molinari|  Corporate| 23|United States|New York City|    New York|      10024|   East|\n",
            "|   TB-21055|  Ted Butterfield|   Consumer| 34|United States|         Troy|    New York|      12180|   East|\n",
            "|   PS-18970|   Paul Stevenson|Home Office| 31|United States|      Chicago|    Illinois|      60610|Central|\n",
            "|   BS-11590|    Brendan Sweed|  Corporate| 45|United States|      Gilbert|     Arizona|      85234|   West|\n",
            "|   HM-14980|Henry MacAllister|   Consumer| 35|United States|New York City|    New York|      10009|   East|\n",
            "|   JE-15745|       Joel Eaton|   Consumer| 25|United States|      Memphis|   Tennessee|      38109|  South|\n",
            "|   KB-16600|      Ken Brennan|  Corporate| 29|United States|      Houston|       Texas|      77041|Central|\n",
            "+-----------+-----------------+-----------+---+-------------+-------------+------------+-----------+-------+\n",
            "only showing top 20 rows\n",
            "\n"
          ],
          "name": "stdout"
        }
      ]
    },
    {
      "cell_type": "code",
      "metadata": {
        "colab": {
          "base_uri": "https://localhost:8080/"
        },
        "id": "NpVCX1jbk_mg",
        "outputId": "bd21addf-4dd3-400f-9eba-ec6d403558a8"
      },
      "source": [
        "df_pyspark.filter(\"age<=45\").select('Age','City').show()"
      ],
      "execution_count": 61,
      "outputs": [
        {
          "output_type": "stream",
          "text": [
            "+---+-------------+\n",
            "|Age|         City|\n",
            "+---+-------------+\n",
            "| 31|  Los Angeles|\n",
            "| 20|  Los Angeles|\n",
            "| 20|   Fort Worth|\n",
            "| 18|  West Jordan|\n",
            "| 41| Philadelphia|\n",
            "| 34|         Orem|\n",
            "| 21|  Los Angeles|\n",
            "| 19|      Houston|\n",
            "| 28|   Richardson|\n",
            "| 31|   Naperville|\n",
            "| 20|    Melbourne|\n",
            "| 27|        Eagan|\n",
            "| 40|   New Albany|\n",
            "| 23|New York City|\n",
            "| 34|         Troy|\n",
            "| 31|      Chicago|\n",
            "| 45|      Gilbert|\n",
            "| 35|New York City|\n",
            "| 25|      Memphis|\n",
            "| 29|      Houston|\n",
            "+---+-------------+\n",
            "only showing top 20 rows\n",
            "\n"
          ],
          "name": "stdout"
        }
      ]
    },
    {
      "cell_type": "code",
      "metadata": {
        "colab": {
          "base_uri": "https://localhost:8080/"
        },
        "id": "NQhazrt5k_jd",
        "outputId": "56fc728c-9018-4bb8-b908-6e29d52aee9b"
      },
      "source": [
        "#multiple Condition\n",
        "df_pyspark.filter((df_pyspark[\"Age\"]<=45)&(df_pyspark[\"City\"]==\"Los Angeles\")).show()"
      ],
      "execution_count": 66,
      "outputs": [
        {
          "output_type": "stream",
          "text": [
            "+-----------+----------------+-----------+---+-------------+-----------+----------+-----------+------+\n",
            "|Customer ID|   Customer Name|    Segment|Age|      Country|       City|     State|Postal Code|Region|\n",
            "+-----------+----------------+-----------+---+-------------+-----------+----------+-----------+------+\n",
            "|   DV-13045| Darrin Van Huff|  Corporate| 31|United States|Los Angeles|California|      90036|  West|\n",
            "|   BH-11710| Brosina Hoffman|   Consumer| 20|United States|Los Angeles|California|      90032|  West|\n",
            "|   EH-13945|   Eric Hoffmann|   Consumer| 21|United States|Los Angeles|California|      90049|  West|\n",
            "|   JS-15685|        Jim Sink|  Corporate| 33|United States|Los Angeles|California|      90036|  West|\n",
            "|   FM-14290|    Frank Merwin|Home Office| 45|United States|Los Angeles|California|      90032|  West|\n",
            "|   JH-15910| Jonathan Howell|   Consumer| 40|United States|Los Angeles|California|      90032|  West|\n",
            "|   JO-15280|   Jas O'Carroll|   Consumer| 39|United States|Los Angeles|California|      90004|  West|\n",
            "|   DB-13615|   Doug Bickford|   Consumer| 19|United States|Los Angeles|California|      90045|  West|\n",
            "|   PB-19150|    Philip Brown|   Consumer| 30|United States|Los Angeles|California|      90004|  West|\n",
            "|   KB-16240|      Karen Bern|  Corporate| 42|United States|Los Angeles|California|      90036|  West|\n",
            "|   JC-15340| Jasper Cacioppo|   Consumer| 39|United States|Los Angeles|California|      90032|  West|\n",
            "|   OT-18730|     Olvera Toch|   Consumer| 39|United States|Los Angeles|California|      90045|  West|\n",
            "|   FP-14320|     Frank Preis|   Consumer| 20|United States|Los Angeles|California|      90008|  West|\n",
            "|   CC-12145|Charles Crestani|   Consumer| 21|United States|Los Angeles|California|      90004|  West|\n",
            "|   AB-10165|     Alan Barnes|   Consumer| 22|United States|Los Angeles|California|      90036|  West|\n",
            "|   RD-19810|Ross DeVincentis|Home Office| 35|United States|Los Angeles|California|      90045|  West|\n",
            "|   AT-10435|     Alyssa Tate|Home Office| 19|United States|Los Angeles|California|      90004|  West|\n",
            "|   BT-11530| Bradley Talbott|Home Office| 34|United States|Los Angeles|California|      90036|  West|\n",
            "|   BF-11170|      Ben Ferrer|Home Office| 19|United States|Los Angeles|California|      90036|  West|\n",
            "|   HG-14965|   Henry Goldwyn|  Corporate| 32|United States|Los Angeles|California|      90032|  West|\n",
            "+-----------+----------------+-----------+---+-------------+-----------+----------+-----------+------+\n",
            "only showing top 20 rows\n",
            "\n"
          ],
          "name": "stdout"
        }
      ]
    },
    {
      "cell_type": "code",
      "metadata": {
        "id": "iRVfLD4Fk_g_"
      },
      "source": [
        "# we can use & and | also "
      ],
      "execution_count": 68,
      "outputs": []
    },
    {
      "cell_type": "code",
      "metadata": {
        "colab": {
          "base_uri": "https://localhost:8080/"
        },
        "id": "VYv-Dg4hk_dI",
        "outputId": "c60b2a2a-dda6-4fd1-d07e-77e22b0bca43"
      },
      "source": [
        "#using Not operation\n",
        "df_pyspark.filter(~(df_pyspark[\"Age\"]<=45)).show()"
      ],
      "execution_count": 69,
      "outputs": [
        {
          "output_type": "stream",
          "text": [
            "+-----------+------------------+-----------+---+-------------+---------------+--------------+-----------+-------+\n",
            "|Customer ID|     Customer Name|    Segment|Age|      Country|           City|         State|Postal Code| Region|\n",
            "+-----------+------------------+-----------+---+-------------+---------------+--------------+-----------+-------+\n",
            "|   CG-12520|       Claire Gute|   Consumer| 67|United States|      Henderson|      Kentucky|      42420|  South|\n",
            "|   SO-20335|    Sean O'Donnell|   Consumer| 65|United States|Fort Lauderdale|       Florida|      33311|  South|\n",
            "|   AA-10480|      Andrew Allen|   Consumer| 50|United States|        Concord|North Carolina|      28027|  South|\n",
            "|   IM-15070|      Irene Maddox|   Consumer| 66|United States|        Seattle|    Washington|      98103|   West|\n",
            "|   PK-19075|         Pete Kriz|   Consumer| 46|United States|        Madison|     Wisconsin|      53711|Central|\n",
            "|   ZD-21925|Zuschuss Donatelli|   Consumer| 66|United States|  San Francisco|    California|      94109|   West|\n",
            "|   KB-16585|         Ken Black|  Corporate| 67|United States|        Fremont|      Nebraska|      68025|Central|\n",
            "|   TB-21520|   Tracy Blumstein|   Consumer| 48|United States|   Philadelphia|  Pennsylvania|      19140|   East|\n",
            "|   SN-20710|      Steve Nguyen|Home Office| 46|United States|        Houston|         Texas|      77041|Central|\n",
            "|   RA-19885|      Ruben Ausman|  Corporate| 51|United States|    Los Angeles|    California|      90049|   West|\n",
            "|   PO-18865| Patrick O'Donnell|   Consumer| 64|United States|       Westland|      Michigan|      48185|Central|\n",
            "|   LH-16900|    Lena Hernandez|   Consumer| 66|United States|          Dover|      Delaware|      19901|   East|\n",
            "|   KM-16720|      Kunst Miller|   Consumer| 69|United States|    Los Angeles|    California|      90004|   West|\n",
            "|   KD-16270|     Karen Daniels|   Consumer| 59|United States|    Springfield|      Virginia|      22153|  South|\n",
            "|   JC-16105|   Julie Creighton|  Corporate| 56|United States|         Durham|North Carolina|      27707|  South|\n",
            "|   PG-18895|     Paul Gonzalez|   Consumer| 64|United States|      Rochester|     Minnesota|      55901|Central|\n",
            "|   GM-14455|      Gary Mitchum|Home Office| 64|United States|        Houston|         Texas|      77095|Central|\n",
            "|   KB-16315|        Karl Braun|   Consumer| 70|United States|    Minneapolis|     Minnesota|      55407|Central|\n",
            "|   RB-19705|      Roger Barcio|Home Office| 63|United States|       Portland|        Oregon|      97206|   West|\n",
            "|   ER-13855| Elpida Rittenbach|  Corporate| 56|United States|     Saint Paul|     Minnesota|      55106|Central|\n",
            "+-----------+------------------+-----------+---+-------------+---------------+--------------+-----------+-------+\n",
            "only showing top 20 rows\n",
            "\n"
          ],
          "name": "stdout"
        }
      ]
    },
    {
      "cell_type": "markdown",
      "metadata": {
        "id": "GZ0FAmNQtL19"
      },
      "source": [
        "GROUPBY AND AGGREGATE FUNCTION"
      ]
    },
    {
      "cell_type": "code",
      "metadata": {
        "colab": {
          "base_uri": "https://localhost:8080/"
        },
        "id": "Uuzfpb5Zk_ab",
        "outputId": "e5cd9ce5-0d77-47f4-f694-9c7a0d252ea5"
      },
      "source": [
        "df_pyspark.groupby('Age').count().show()\n",
        "#from below we can see that the age number of 31 are the highest in number"
      ],
      "execution_count": 74,
      "outputs": [
        {
          "output_type": "stream",
          "text": [
            "+---+-----+\n",
            "|Age|count|\n",
            "+---+-----+\n",
            "| 31|   22|\n",
            "| 65|   17|\n",
            "| 53|   16|\n",
            "| 34|   17|\n",
            "| 28|   10|\n",
            "| 27|   11|\n",
            "| 26|   11|\n",
            "| 44|   16|\n",
            "| 22|   19|\n",
            "| 47|   16|\n",
            "| 52|   10|\n",
            "| 20|   17|\n",
            "| 40|   10|\n",
            "| 57|   18|\n",
            "| 54|   10|\n",
            "| 48|   21|\n",
            "| 19|   16|\n",
            "| 64|   17|\n",
            "| 41|   21|\n",
            "| 43|    5|\n",
            "+---+-----+\n",
            "only showing top 20 rows\n",
            "\n"
          ],
          "name": "stdout"
        }
      ]
    },
    {
      "cell_type": "code",
      "metadata": {
        "colab": {
          "base_uri": "https://localhost:8080/"
        },
        "id": "cIoFQDvck_Wq",
        "outputId": "251c49cd-c43e-4beb-f675-358a8f3e9772"
      },
      "source": [
        "#lets see mean age retrived as per city\n",
        "df_pyspark.groupBy('City').mean().show()"
      ],
      "execution_count": 77,
      "outputs": [
        {
          "output_type": "stream",
          "text": [
            "+---------------+------------------+------------------+\n",
            "|           City|          avg(Age)|  avg(Postal Code)|\n",
            "+---------------+------------------+------------------+\n",
            "|          Tyler|              61.0|           75701.0|\n",
            "|    Springfield|              49.0| 38396.42857142857|\n",
            "|  Bowling Green|              54.0|           42104.0|\n",
            "|         Auburn|46.333333333333336|20957.333333333332|\n",
            "|North Las Vegas|              40.0|           89031.0|\n",
            "|        Phoenix|              42.0|           85023.0|\n",
            "|  Lake Elsinore|              51.0|           92530.0|\n",
            "|         Monroe|              54.4|           53965.8|\n",
            "| Pembroke Pines|              25.0|           33024.0|\n",
            "|       Westland|              64.0|           48185.0|\n",
            "|    Lindenhurst|              51.0|           11757.0|\n",
            "|         Marion|              56.0|           43302.0|\n",
            "|          Omaha|              51.0|           68104.0|\n",
            "|   Fort Collins|              65.0|           80525.0|\n",
            "|        Everett|              63.0|            2149.0|\n",
            "|     Greensboro|              59.0|           27405.0|\n",
            "|       Franklin|             51.75|           23568.0|\n",
            "|   Lincoln Park|              26.0|           48146.0|\n",
            "|         Dallas| 40.30769230769231| 75187.23076923077|\n",
            "|    Thomasville|              41.0|           27360.0|\n",
            "+---------------+------------------+------------------+\n",
            "only showing top 20 rows\n",
            "\n"
          ],
          "name": "stdout"
        }
      ]
    },
    {
      "cell_type": "code",
      "metadata": {
        "colab": {
          "base_uri": "https://localhost:8080/"
        },
        "id": "_nBw3ORCk_T7",
        "outputId": "4a604fa0-c40d-48cc-8873-747a11c45745"
      },
      "source": [
        "df_pyspark.agg({'Segment':'count'}).show()"
      ],
      "execution_count": 80,
      "outputs": [
        {
          "output_type": "stream",
          "text": [
            "+--------------+\n",
            "|count(Segment)|\n",
            "+--------------+\n",
            "|           793|\n",
            "+--------------+\n",
            "\n"
          ],
          "name": "stdout"
        }
      ]
    },
    {
      "cell_type": "code",
      "metadata": {
        "colab": {
          "base_uri": "https://localhost:8080/"
        },
        "id": "wsvDD0drk_RO",
        "outputId": "f733ca6b-c4a2-4d48-fc45-9964daf1febe"
      },
      "source": [
        "df_pyspark.groupBy('Age').min().show()"
      ],
      "execution_count": 81,
      "outputs": [
        {
          "output_type": "stream",
          "text": [
            "+---+--------+----------------+\n",
            "|Age|min(Age)|min(Postal Code)|\n",
            "+---+--------+----------------+\n",
            "| 31|      31|            3301|\n",
            "| 65|      65|            2038|\n",
            "| 53|      53|           10009|\n",
            "| 34|      34|           10011|\n",
            "| 28|      28|            8302|\n",
            "| 27|      27|           19120|\n",
            "| 26|      26|           10024|\n",
            "| 44|      44|            6824|\n",
            "| 22|      22|           10009|\n",
            "| 47|      47|           10035|\n",
            "| 52|      52|           10024|\n",
            "| 20|      20|            6040|\n",
            "| 40|      40|            1841|\n",
            "| 57|      57|           10009|\n",
            "| 54|      54|            8360|\n",
            "| 48|      48|            3820|\n",
            "| 19|      19|            1852|\n",
            "| 64|      64|           10035|\n",
            "| 41|      41|            2908|\n",
            "| 43|      43|           44312|\n",
            "+---+--------+----------------+\n",
            "only showing top 20 rows\n",
            "\n"
          ],
          "name": "stdout"
        }
      ]
    },
    {
      "cell_type": "code",
      "metadata": {
        "id": "IsPV1-9Zk_OR"
      },
      "source": [
        ""
      ],
      "execution_count": null,
      "outputs": []
    },
    {
      "cell_type": "code",
      "metadata": {
        "id": "WpL7aaYOk_LV"
      },
      "source": [
        ""
      ],
      "execution_count": null,
      "outputs": []
    },
    {
      "cell_type": "code",
      "metadata": {
        "id": "Yv2Tn1Npk_JE"
      },
      "source": [
        ""
      ],
      "execution_count": null,
      "outputs": []
    },
    {
      "cell_type": "code",
      "metadata": {
        "id": "2XuDbk1mk_Gf"
      },
      "source": [
        ""
      ],
      "execution_count": null,
      "outputs": []
    },
    {
      "cell_type": "code",
      "metadata": {
        "id": "T4F7Bxl0k_Bx"
      },
      "source": [
        ""
      ],
      "execution_count": null,
      "outputs": []
    },
    {
      "cell_type": "code",
      "metadata": {
        "id": "NVXC-iR1k--4"
      },
      "source": [
        ""
      ],
      "execution_count": null,
      "outputs": []
    },
    {
      "cell_type": "code",
      "metadata": {
        "id": "GUCWv3AUk-7j"
      },
      "source": [
        ""
      ],
      "execution_count": null,
      "outputs": []
    },
    {
      "cell_type": "code",
      "metadata": {
        "id": "l05YHkEyk-45"
      },
      "source": [
        ""
      ],
      "execution_count": null,
      "outputs": []
    },
    {
      "cell_type": "code",
      "metadata": {
        "id": "zP05JV5Pk-z2"
      },
      "source": [
        ""
      ],
      "execution_count": null,
      "outputs": []
    },
    {
      "cell_type": "code",
      "metadata": {
        "id": "sSlBbewKk-v_"
      },
      "source": [
        ""
      ],
      "execution_count": null,
      "outputs": []
    },
    {
      "cell_type": "code",
      "metadata": {
        "id": "p7_Okinfk-r8"
      },
      "source": [
        ""
      ],
      "execution_count": null,
      "outputs": []
    },
    {
      "cell_type": "code",
      "metadata": {
        "id": "khCrtjUgk-o_"
      },
      "source": [
        ""
      ],
      "execution_count": null,
      "outputs": []
    },
    {
      "cell_type": "code",
      "metadata": {
        "id": "gjIdCezkk-mi"
      },
      "source": [
        ""
      ],
      "execution_count": null,
      "outputs": []
    },
    {
      "cell_type": "code",
      "metadata": {
        "id": "tKtZURcFk-jT"
      },
      "source": [
        ""
      ],
      "execution_count": null,
      "outputs": []
    },
    {
      "cell_type": "code",
      "metadata": {
        "id": "N7v54i2Lk-gt"
      },
      "source": [
        ""
      ],
      "execution_count": null,
      "outputs": []
    },
    {
      "cell_type": "code",
      "metadata": {
        "id": "zngYsLLEk-do"
      },
      "source": [
        ""
      ],
      "execution_count": null,
      "outputs": []
    },
    {
      "cell_type": "code",
      "metadata": {
        "id": "tAlOuLx3k-aA"
      },
      "source": [
        ""
      ],
      "execution_count": null,
      "outputs": []
    },
    {
      "cell_type": "code",
      "metadata": {
        "id": "ENkUpOgek-Xx"
      },
      "source": [
        ""
      ],
      "execution_count": null,
      "outputs": []
    },
    {
      "cell_type": "code",
      "metadata": {
        "id": "GuUQ9KSwk-KH"
      },
      "source": [
        ""
      ],
      "execution_count": null,
      "outputs": []
    }
  ]
}